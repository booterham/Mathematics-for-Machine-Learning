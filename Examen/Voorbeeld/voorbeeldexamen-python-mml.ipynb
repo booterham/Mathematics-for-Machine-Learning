{
 "cells": [
  {
   "attachments": {},
   "cell_type": "markdown",
   "metadata": {},
   "source": [
    "# Voorbeeldexamen Mathematics for Machine Learning\n",
    "\n",
    "- Naam: HIER ANTWOORDEN\n",
    "- Klas: HIER ANTWOORDEN\n",
    "  \n",
    "\n",
    "**Dit examen is een GESLOTEN BOEK examen. Je mag ENKEL deze notebook en de ingebouwde help van Colab gebruiken.**\n",
    "\n",
    "Indienen gebeurt door dit notebook uit te voeren en met de uitvoer intact op te laden in de Examen-opdracht.\n",
    "Laad ook een PDF-versie van je notebook op in de examentool.\n",
    "\n",
    "Alle code die je moet schrijven moet je invullen tussen \n",
    "`### JOUW CODE HIER` en  `### EINDE JOUW CODE HIER`.  \n",
    "\n",
    "Vaak moet je ook een korte vraag beantwoorden, gebaseerd op de uitvoer van je code of een meer theoretische vraag. Bv.\n",
    "- Wat is het antwoord op de ultieme vraag over het Leven, het Universum, en Alles? HIER ANTWOORDEN\n",
    "\n",
    "Dan vervang je deze HIER ANTWOORDEN door 42.\n",
    "\n",
    "De import statements die we gaan gebruiken staan hieronder. Voeg zelf **geen nieuwe import statements toe**.\n"
   ]
  },
  {
   "cell_type": "code",
   "execution_count": null,
   "metadata": {},
   "outputs": [],
   "source": [
    "import numpy as np\n",
    "import matplotlib.pyplot as plt"
   ]
  },
  {
   "attachments": {},
   "cell_type": "markdown",
   "metadata": {},
   "source": [
    "## Vraag 1 (17 punten)\n",
    "\n",
    "Schrijf een methode `lu_decompositie` om de LU-decompositie van een vierkante matrix $\\mathbf{A}$ te bepalen.\n",
    "Deze methode heeft als invoer een vierkante matrix $\\mathbf{A}$, en retourneert een tupel matrices $\\mathbf{L}$ en $\\mathbf{U}$\n",
    "zodat geldt dat $\\mathbf{A} = \\mathbf{L}\\mathbf{U}$.\n",
    "\n",
    "In de cursus zagen we de volgende LU-decompositie:\n",
    "$$\n",
    "\\begin{bmatrix}\n",
    "1 & 2 & 1 \\\\\n",
    "3 & 8 & 1 \\\\\n",
    "0 & 4 & 1 \\\\\n",
    "\\end{bmatrix}\n",
    "=\n",
    "\\begin{bmatrix} \n",
    "1 & 0 & 0 \\\\\n",
    "3 & 1 & 0 \\\\\n",
    "0 & 2 & 1 \\\\\n",
    "\\end{bmatrix}\n",
    "\\begin{bmatrix}\n",
    "1 & 2 & 1 \\\\\n",
    "0 & 2 & -2 \\\\\n",
    "0 & 0 & 5 \\\\\n",
    "\\end{bmatrix}.\n",
    "$$\n",
    "Dit is eigenlijk het gevolg van de volgende elementaire rij-operaties:\n",
    "$$\n",
    "\\begin{bmatrix}\n",
    "1 & 2 & 1 \\\\\n",
    "3 & 8 & 1 \\\\\n",
    "0 & 4 & 1 \\\\\n",
    "\\end{bmatrix}\n",
    "\\stackrel{R_2 \\gets R_2 - 3 R_1}{\\longrightarrow}\n",
    "\\begin{bmatrix}\n",
    "1 & 2 & 1 \\\\\n",
    "0 & 2 & -2 \\\\\n",
    "0 & 4 & 1 \\\\\n",
    "\\end{bmatrix}\n",
    "\\stackrel{R_3 \\gets R_3 - 2 R_1}{\\longrightarrow}\n",
    "\\begin{bmatrix}\n",
    " 1 & 2 & 1 \\\\\n",
    " 0 & 2 & -2 \\\\\n",
    " 0 & 0 & 5 \\\\\n",
    " \\end{bmatrix}\n",
    "$$\n",
    "Merk op hoe de elementaire rij-operaties die worden uitgevoerd worden weergegeven worden in\n",
    "de matrix $\\mathbf{L}$.\n",
    "\n",
    "\n",
    "Let bij het schrijven van de methode op het volgende:\n",
    "- Je methode moet **wel** controleren of de invoer een vierkante matrix.\n",
    "  - Als de invoer geen matrix is, dan geef je als foutboodschap in het `assert` statement `Geen matrix`.\n",
    "  - Als de invoer een matrix is maar het is geen vierkante matrix dan geef je als foutboodschap in het `assert` statement `Matrix niet vierkant`.\n",
    "- Je methode hoeft **geen** rijverwisselingen uit te voeren.\n",
    "- Je code hoeft **niet** te controleren of een spilelement gelijk is aan nul.\n",
    "- Je code mag uiteraard **geen** gebruikmaken van een methode om de LU-decompositie te berekenen! \n",
    "- De matrix $\\mathbf{A}$ moet na het uitvoeren van je code ongewijzigd zijn."
   ]
  },
  {
   "cell_type": "code",
   "execution_count": null,
   "metadata": {},
   "outputs": [],
   "source": [
    "def lu_decompositie(A):\n",
    "    ### JOUW CODE HIER\n",
    "    pass\n",
    "    ### EINDE JOUW CODE HIER"
   ]
  },
  {
   "cell_type": "markdown",
   "metadata": {},
   "source": [
    "Zoals reeds gezegd zagen we in de cursus de volgende LU-decompositie:\n",
    "$$\n",
    "\\begin{bmatrix}\n",
    "1 & 2 & 1 \\\\\n",
    "3 & 8 & 1 \\\\\n",
    "0 & 4 & 1 \\\\\n",
    "\\end{bmatrix}\n",
    "=\n",
    "\\begin{bmatrix} \n",
    "1 & 0 & 0 \\\\\n",
    "3 & 1 & 0 \\\\\n",
    "0 & 2 & 1 \\\\\n",
    "\\end{bmatrix}\n",
    "\\begin{bmatrix}\n",
    "1 & 2 & 1 \\\\\n",
    "0 & 2 & -2 \\\\\n",
    "0 & 0 & 5 \\\\\n",
    "\\end{bmatrix}.\n",
    "$$\n",
    "\n",
    "Verifieer, a.d.h.v. een `assert`-statement dat jouw code hetzelfde resultaat geeft."
   ]
  },
  {
   "cell_type": "code",
   "execution_count": null,
   "metadata": {},
   "outputs": [],
   "source": [
    "# JOUW CODE HIER\n",
    "\n",
    "# EINDE JOUW CODE HIER"
   ]
  },
  {
   "cell_type": "markdown",
   "metadata": {},
   "source": [
    "Vervolledig volgende code met een drietal testen:\n",
    "1. Bereken eerst de LU-decompositie van $\\mathbf{A}$.\n",
    "2. Verifieer dat $\\mathbf{A} = \\mathbf{L}\\mathbf{U}$.\n",
    "3. Verifieer dat $\\mathbf{L}$ een benedendriehoeksmatrix is.\n",
    "4. Verifieer dat $\\mathbf{U}$ een bovendriehoeksmatrix is.\n",
    "\n",
    "Opmerking: vergelijk geen floating point met `==` maar gebruik een `numpy` methode om deze vergelijking\n",
    "op een correcte manier uit te voeren.\n",
    "\n",
    "Hint: je kan gebruikmaken van de methodes `np.tril` en `np.triu`."
   ]
  },
  {
   "cell_type": "code",
   "execution_count": null,
   "metadata": {},
   "outputs": [],
   "source": [
    "rng = np.random.default_rng(seed=42)\n",
    "for _ in range(100):\n",
    "    A = np.random.standard_normal(size=(10,10))*5\n",
    "    # JOUW CODE HIER\n",
    "    \n",
    "    # EINDE JOUW CODE HIER\n",
    "print(\"Alle testen geslaagd\")"
   ]
  },
  {
   "cell_type": "markdown",
   "metadata": {},
   "source": [
    "## Vraag 2 (18 punten)\n",
    "\n",
    "Gegeven een set van tweedimensionale datapunten $\\mathbf{X} \\in \\mathbb{R}^{11\\times 2}$.\n",
    "```\n",
    "X = array([[  0. ,   1. ],\n",
    "       [  0.5,  -1. ],\n",
    "       [  1. ,   1. ],\n",
    "       [  1.5,   2. ],\n",
    "       [  2. ,   3. ],\n",
    "       [  2.5,  10. ],\n",
    "       [  3. ,  22. ],\n",
    "       [  3.5,  37. ],\n",
    "       [  4. ,  57. ],\n",
    "       [  4.5,  82. ],\n",
    "       [  5. , 117. ]])\n",
    "```\n",
    "\n",
    "Hieronder krijg je twee `numpy` arrays met respectievelijk de eerste en twee kolom van \n",
    "deze matrix."
   ]
  },
  {
   "cell_type": "code",
   "execution_count": null,
   "metadata": {},
   "outputs": [],
   "source": [
    "x = np.array([0,0.5,1,1.5,2,2.5,3,3.5,4,4.5,5])\n",
    "y = np.array([1.0,-1,1,2,3,10,22,37,57,82,117])"
   ]
  },
  {
   "cell_type": "markdown",
   "metadata": {},
   "source": [
    "Maak een scatter plot van deze punten om wat meer inzicht te krijgen in de data."
   ]
  },
  {
   "cell_type": "code",
   "execution_count": null,
   "metadata": {},
   "outputs": [],
   "source": [
    "### JOUW CODE HIER\n",
    "\n",
    "### EINDE JOUW CODE HIER"
   ]
  },
  {
   "cell_type": "markdown",
   "metadata": {},
   "source": [
    "We wensen de best passende rechte te vinden door deze punten.\n",
    "De vergelijking van een rechte is in het algemeen:\n",
    "$$\n",
    "y = \\alpha_0 + \\alpha_1 x. \n",
    "$$\n",
    "\n",
    "**Indien** er een rechte zou gaan door de 11 gegeven punten, dan zouden $\\alpha_0$ en $\\alpha_1$ de oplossing \n",
    "zijn van een stelsel lineaire vergelijkingen\n",
    "$$\n",
    "\\mathbf{A} \\begin{bmatrix} \\alpha_0 \\\\ \\alpha_1 \\end{bmatrix} = \\mathbf{b}.\n",
    "$$\n",
    "\n",
    "Construeer in cel hieronder de matrix $\\mathbf{A}$ en de vector $\\mathbf{b}$. Print $\\mathbf{A}$ en $\\mathbf{b}$ op het einde van de cel."
   ]
  },
  {
   "cell_type": "code",
   "execution_count": null,
   "metadata": {},
   "outputs": [],
   "source": [
    "### JOUW CODE HIER\n",
    "\n",
    "### EINDE JOUW CODE HIER"
   ]
  },
  {
   "cell_type": "markdown",
   "metadata": {},
   "source": [
    "Omdat er geen rechte door de 11 gegeven punten gaat is het stelsel strijdig.\n",
    "Bereken de beste benaderende oplossing van het stelsel om hiermee de vergelijking van de best passende rechte te bepalen.\n",
    "\n",
    "Ter info: de beste benaderende oplossing van een stelsel\n",
    "$$\n",
    "\\mathbf{A} \\mathbf{x} = \\mathbf{b}\n",
    "$$\n",
    "wordt gegeven door\n",
    "$$\n",
    "\\mathbf{x}^* = \\mathbf{A}^+ \\mathbf{b}.\n",
    "$$"
   ]
  },
  {
   "cell_type": "code",
   "execution_count": null,
   "metadata": {},
   "outputs": [],
   "source": [
    "### JOUW CODE HIER\n",
    "\n",
    "### EINDE JOUW CODE HIER"
   ]
  },
  {
   "cell_type": "markdown",
   "metadata": {},
   "source": [
    "De vergelijking van de best passende rechte is: HIER ANTWOORDEN "
   ]
  },
  {
   "cell_type": "markdown",
   "metadata": {},
   "source": [
    "Geef de Mean Squared Error voor deze best passende rechte. Ter referentie:\n",
    "$$\n",
    "\\text{MSE} = \\frac{1}{11} \\sum_{i=1}^{11} \\bigl( \\alpha_0 + \\alpha_1 x^{(i)} - y^{(i)} \\bigr)^2,\n",
    "$$\n",
    "waarbij $\\alpha_0$ en $\\alpha_1$ de coëfficiënten zijn van de best passende rechte. $x^{(i)}$ verwijst naar de $x$-coördinaat van het \n",
    "$i$-de datapunt, bv. $x^{(2)} = 0.5$. Op een gelijkaardige manier verwijst $y^{(i)}$ naar de verwachte uitkomst bij het $i$-de datapunt, \n",
    "bv. $y^{(11)} = 117$.\n",
    "\n",
    "Schrijf je code in de cel hieronder."
   ]
  },
  {
   "cell_type": "code",
   "execution_count": null,
   "metadata": {},
   "outputs": [],
   "source": [
    "### JOUW CODE HIER\n",
    "\n",
    "### EINDE JOUW CODE HIER"
   ]
  },
  {
   "cell_type": "markdown",
   "metadata": {},
   "source": [
    "De MSE, afgerond op drie cijfers na de komma, voor deze rechte is: HIER ANTWOORDEN"
   ]
  },
  {
   "cell_type": "markdown",
   "metadata": {},
   "source": [
    "We wensen nu de best passende derdegraadskromme te vinden bij deze punten.\n",
    "De vergelijking van een derdegraadskromme is in het algemeen:\n",
    "$$\n",
    "y = \\alpha_0 + \\alpha_1 x +\\alpha_2 x^2 + \\alpha_3 x^3\n",
    "$$\n",
    "\n",
    "**Indien** er een derdegraadskromme door de gegeven punten zou gaan dan zouden de coëfficiënten \n",
    "$\\alpha_0$ t.e.m. $\\alpha_3$ aan een stelsel lineaire vergelijkingen \n",
    "$$\n",
    "\\mathbf{A} \\begin{bmatrix} \\alpha_0 \\\\ \\alpha_1 \\\\ \\alpha_2 \\\\ \\alpha_3 \\end{bmatrix} = \\mathbf{b}.\n",
    "$$\n",
    "voldoen.\n",
    "\n",
    "Geef de code om $\\mathbf{A}$ en $\\mathbf{b}$ te construeren in de cel hieronder.  Print $\\mathbf{A}$ en $\\mathbf{b}$ op het einde van de cel."
   ]
  },
  {
   "cell_type": "code",
   "execution_count": null,
   "metadata": {},
   "outputs": [],
   "source": [
    "### JOUW CODE HIER\n",
    "\n",
    "#### EINDE JOUW CODE HIER"
   ]
  },
  {
   "cell_type": "markdown",
   "metadata": {},
   "source": [
    "Vind de coëfficiënten van de best passende derdegraadskromme door de beste benaderende oplossing \n",
    "van het stelsel dat je zonet hebt opgesteld te bepalen."
   ]
  },
  {
   "cell_type": "code",
   "execution_count": null,
   "metadata": {},
   "outputs": [],
   "source": [
    "### JOUW CODE HIER\n",
    "\n",
    "#### EINDE JOUW CODE HIER"
   ]
  },
  {
   "cell_type": "markdown",
   "metadata": {},
   "source": [
    "De vergelijking van de best passende derdegraadskromme is. (Rond de coëfficiënten af op drie cijfers na de komma): HIER ANTWOORDEN "
   ]
  },
  {
   "cell_type": "markdown",
   "metadata": {},
   "source": [
    "Schrijf code om zowel de originele punten als de past best passende derdegraadskromme te plotten op dezelfde plot:"
   ]
  },
  {
   "cell_type": "code",
   "execution_count": null,
   "metadata": {},
   "outputs": [],
   "source": [
    "### JOUW CODE HIER\n",
    "\n",
    "#### EINDE JOUW CODE HIER"
   ]
  },
  {
   "cell_type": "markdown",
   "metadata": {},
   "source": [
    "### Vraag 3 (18 punten)"
   ]
  },
  {
   "cell_type": "markdown",
   "metadata": {},
   "source": [
    "Beschouw de functie \n",
    "$$\n",
    "f \\colon \\R^2 \\to \\R \\colon (x,y) \\mapsto f(x,y) = \\sigma(x^2 + (y-1)^2),\n",
    "$$\n",
    "waarbij de functie $\\sigma$ de sigmoïde voorstelt met functievoorschrift:\n",
    "$$\n",
    "\\sigma(x) = \\frac{1}{1 + \\exp(-x)}.\n",
    "$$\n",
    "We willen gradient descent toepassen om het minimum van deze functie te bepalen.\n",
    "Beantwoord de vragen hieronder."
   ]
  },
  {
   "cell_type": "markdown",
   "metadata": {},
   "source": [
    "Schrijf een methode `sigma` die de sigmoïde van een willeurige invoer berekent.\n",
    "Om te controleren of je methode werkt krijg je hieronder een aantal in- en uitvoerwaarden\n",
    "van de sigmoïde.\n",
    "```\n",
    "-2 -> 0.11920292202211755\n",
    "-1 -> 0.2689414213699951\n",
    "0 -> 0.5\n",
    "1 -> 0.7310585786300049\n",
    "2 -> 0.8807970779778823\n",
    "```\n"
   ]
  },
  {
   "cell_type": "code",
   "execution_count": null,
   "metadata": {},
   "outputs": [],
   "source": [
    "### JOUW CODE HIER\n",
    "\n",
    "### EINDE JOUW CODE HIER"
   ]
  },
  {
   "cell_type": "markdown",
   "metadata": {},
   "source": [
    "Schrijf een methode `f` die de functiewaarde van $f$ bepaalt. De invoer is een \n",
    "`numpy` array van lengte 2 en de returnwaarde is een floating point getal."
   ]
  },
  {
   "cell_type": "code",
   "execution_count": null,
   "metadata": {},
   "outputs": [],
   "source": [
    "def f(xs):\n",
    "    ### JOUW CODE HIER\n",
    "    pass\n",
    "    ### EINDE JOUW CODE HIER"
   ]
  },
  {
   "cell_type": "markdown",
   "metadata": {},
   "source": [
    "Uit de cursus weten we reeds dat \n",
    "$$\n",
    "\\sigma'(x) = \\sigma(x) (1-\\sigma(x))\n",
    "$$\n",
    "\n",
    "Gebruik dit feit om de gradiënt van $f$ analytisch te bepalen:\n",
    "\n",
    "- $\\frac{\\partial f}{\\partial x} = $ HIER ANTWOORDEN \n",
    "- $\\frac{\\partial f}{\\partial y} = $ HIER ANTWOORDEN\n",
    "\n",
    "Schrijf nu een functie `grad` met als invoer een `numpy` array van lengte twee en als uitvoer een \n",
    "`numpy` array van lengte twee die de gradiënt van $f$ in het invoerpunt voorstelt."
   ]
  },
  {
   "cell_type": "code",
   "execution_count": null,
   "metadata": {},
   "outputs": [],
   "source": [
    "def grad(xs):\n",
    "    \"\"\" xs: is een numpy array van lengte twee\n",
    "    \"\"\"\n",
    "    ### JOUW CODE HIER\n",
    "    pass\n",
    "    ### EINDE JOUW CODE HIER"
   ]
  },
  {
   "cell_type": "markdown",
   "metadata": {},
   "source": [
    "Je kan de code hieronder gebruiken om te testen of jouw implementatie correct is.\n",
    "\n",
    "**Opmerking:** de code hieronder gebruikt een numerieke benadering om de gradiënt te berekenen. Jouw code moet analytisch werken!"
   ]
  },
  {
   "cell_type": "code",
   "execution_count": null,
   "metadata": {},
   "outputs": [],
   "source": [
    "### CODE DIE JE KAN GEBRUIKEN ALS TEST VOOR JE IMPLEMENTATIE\n",
    "rng = np.random.default_rng(seed=42)\n",
    "epsilon = 10**-6\n",
    "for _ in range(100):\n",
    "    xs = rng.standard_normal(size=2)*3\n",
    "    dfdx = (f( xs + np.array([epsilon, 0]) ) -  f( xs - np.array([epsilon, 0]) ))/(2*epsilon)\n",
    "    dfdy = (f( xs + np.array([0, epsilon]) ) -  f( xs - np.array([0, epsilon]) ))/(2*epsilon)\n",
    "    g = grad(xs)\n",
    "    assert np.allclose(np.array([dfdx, dfdy]), g)\n",
    "print(\"Code voor gradient lijkt te werken\")"
   ]
  },
  {
   "cell_type": "markdown",
   "metadata": {},
   "source": [
    "Schrijf tenslotte een methode `gradient_descent` om gradient descent toe te passen op deze functie.\n",
    "Je functie neemt drie argumenten:\n",
    "- de initiële positie. Dit is een numpy array van lengte twee.\n",
    "- de stapgrootte. Dit is een floating point getal.\n",
    "- het aantal iteraties dat moet worden uitgevoerd. Dit is een geheel getal.\n",
    "\n",
    "Je functie retourneert de finale positie."
   ]
  },
  {
   "cell_type": "code",
   "execution_count": null,
   "metadata": {},
   "outputs": [],
   "source": [
    "def gradient_descent(xs0, step_size, num_iter):\n",
    "    ### JOUW CODE HIER\n",
    "    pass\n",
    "    ### EINDE JOUW CODE HIER"
   ]
  },
  {
   "cell_type": "markdown",
   "metadata": {},
   "source": [
    "Als je jouw code toepast met de volgende parameters:\n",
    "- `xs0 = np.array([2.0,3.0])`, `step_size=0.5` en `num_iter=10` wat is dan de returnwaarde: HIER ANTWOORDEN \n",
    "- `xs0 = np.array([2.0,2.0])`, `step_size=0.5` en `num_iter=250` wat is dan de returnwaarde: HIER ANTWOORDEN \n",
    "\n",
    "Je kan eenvoudigweg de returnwaarde kopiëren en plakken om te antwoorden."
   ]
  }
 ],
 "metadata": {
  "kernelspec": {
   "display_name": "Python 3.10.4 ('dsai')",
   "language": "python",
   "name": "python3"
  },
  "language_info": {
   "codemirror_mode": {
    "name": "ipython",
    "version": 3
   },
   "file_extension": ".py",
   "mimetype": "text/x-python",
   "name": "python",
   "nbconvert_exporter": "python",
   "pygments_lexer": "ipython3",
   "version": "3.10.4"
  },
  "orig_nbformat": 4,
  "vscode": {
   "interpreter": {
    "hash": "493300dcea3fb0c8882f6548542574e6f7b963fe56e8947dd833836f1f793a9c"
   }
  }
 },
 "nbformat": 4,
 "nbformat_minor": 2
}
